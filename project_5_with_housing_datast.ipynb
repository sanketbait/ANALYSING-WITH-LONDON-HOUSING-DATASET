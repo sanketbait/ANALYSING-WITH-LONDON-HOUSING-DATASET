{
  "nbformat": 4,
  "nbformat_minor": 0,
  "metadata": {
    "colab": {
      "name": "project_5_with_housing_datast.ipynb",
      "provenance": []
    },
    "kernelspec": {
      "name": "python3",
      "display_name": "Python 3"
    },
    "language_info": {
      "name": "python"
    }
  },
  "cells": [
    {
      "cell_type": "markdown",
      "source": [
        "WORKING A REAL PROJET WITH PYTHON ON \" LONDON HOUSING DATASET\""
      ],
      "metadata": {
        "id": "r1FSKWw633DQ"
      }
    },
    {
      "cell_type": "code",
      "source": [
        "import pandas as pd\n",
        "import seaborn as sns\n",
        "import numpy as np\n",
        "import matplotlib.pyplot as plt\n"
      ],
      "metadata": {
        "id": "510uj3aMH0QE"
      },
      "execution_count": null,
      "outputs": []
    },
    {
      "cell_type": "code",
      "source": [
        "data = pd.read_csv(\"/content/5. London Housing Data.csv\")"
      ],
      "metadata": {
        "id": "S20F80W-IQAf"
      },
      "execution_count": null,
      "outputs": []
    },
    {
      "cell_type": "code",
      "source": [
        "data.head(5)"
      ],
      "metadata": {
        "id": "Aic72VGnIZmQ"
      },
      "execution_count": null,
      "outputs": []
    },
    {
      "cell_type": "code",
      "source": [
        "data.count()"
      ],
      "metadata": {
        "id": "pVMREc5nIeGh"
      },
      "execution_count": null,
      "outputs": []
    },
    {
      "cell_type": "code",
      "source": [
        "data.columns"
      ],
      "metadata": {
        "id": "4MLiDX0hIn0e"
      },
      "execution_count": null,
      "outputs": []
    },
    {
      "cell_type": "code",
      "source": [
        "data.isnull().sum()"
      ],
      "metadata": {
        "id": "joY7pgHLIst_"
      },
      "execution_count": null,
      "outputs": []
    },
    {
      "cell_type": "code",
      "source": [
        "sns.heatmap(data.isnull())\n",
        "plt.show()"
      ],
      "metadata": {
        "id": "B0ZCYgKrI9eE"
      },
      "execution_count": null,
      "outputs": []
    },
    {
      "cell_type": "code",
      "source": [
        "#data types"
      ],
      "metadata": {
        "id": "ubCp3rlcJf-O"
      },
      "execution_count": null,
      "outputs": []
    },
    {
      "cell_type": "markdown",
      "source": [
        "Q)1. CONVERT THE DATATYPE OF \"DATA\" COLUM TO DATE-TIME-FORMAT"
      ],
      "metadata": {
        "id": "ZXjlhIZ-9T6r"
      }
    },
    {
      "cell_type": "code",
      "source": [
        "#data types\n",
        "#data.columns\n",
        "data.dtypes"
      ],
      "metadata": {
        "id": "o4QQy6dZJl73"
      },
      "execution_count": null,
      "outputs": []
    },
    {
      "cell_type": "code",
      "source": [
        "data.date = pd.to_datetime(data.date)\n",
        "data.head(2)"
      ],
      "metadata": {
        "id": "uUr1SlJqKGsN"
      },
      "execution_count": null,
      "outputs": []
    },
    {
      "cell_type": "code",
      "source": [
        "data[\"year\"] = data.date.dt.year"
      ],
      "metadata": {
        "id": "DGAqx9VCKeTR"
      },
      "execution_count": null,
      "outputs": []
    },
    {
      "cell_type": "code",
      "source": [
        "data.head(2)"
      ],
      "metadata": {
        "id": "W22limuRK5gc"
      },
      "execution_count": null,
      "outputs": []
    },
    {
      "cell_type": "markdown",
      "source": [
        "Q)2. ADD THE NEW COLUMN \"YEAR\" IN THE DATAFRAME, WHICH CONTAIN YEAR ONLY ?"
      ],
      "metadata": {
        "id": "-WW2_LPp9nWx"
      }
    },
    {
      "cell_type": "code",
      "source": [
        "data[\"year\"] = data.date.dt.year"
      ],
      "metadata": {
        "id": "98I87m4kOqsv"
      },
      "execution_count": null,
      "outputs": []
    },
    {
      "cell_type": "markdown",
      "source": [
        "Q)3. ADD THE NEW COLUMN \"MONTH\" AS A SECOND COLUMN IN THE DATAFRAME WHICH CONTAIN MONTH  ONLY."
      ],
      "metadata": {
        "id": "Qs0nlY-q92d8"
      }
    },
    {
      "cell_type": "code",
      "source": [
        "data.insert(2,\"month\", data.date.dt.month)\n",
        "#data.insert(2,\"month\", data.date.dt.month_name)"
      ],
      "metadata": {
        "id": "ydSkFAn_OjN6"
      },
      "execution_count": null,
      "outputs": []
    },
    {
      "cell_type": "markdown",
      "source": [
        "Q)4. REMOVE THE COLUMN \"YEAR\" AND \"MONTH\" ONLY FROM THE DATAFRAME"
      ],
      "metadata": {
        "id": "WD-XwNcK-rXb"
      }
    },
    {
      "cell_type": "code",
      "source": [
        "data.drop([\"month\",\"year\"], axis = 1, inplace=True)"
      ],
      "metadata": {
        "id": "YV_yBiO2Or2F"
      },
      "execution_count": null,
      "outputs": []
    },
    {
      "cell_type": "code",
      "source": [
        "data.head(2)"
      ],
      "metadata": {
        "id": "yvfIs_BmO7qj"
      },
      "execution_count": null,
      "outputs": []
    },
    {
      "cell_type": "markdown",
      "source": [
        "Q)5. SHOW ALL THE RECORDS WHERE \"NO.OF CRIMES\" IS 0 AND HOW MANY SUCH RECORDS ARE THERE ? "
      ],
      "metadata": {
        "id": "2ss9BCg--u70"
      }
    },
    {
      "cell_type": "code",
      "source": [
        "data[data[\"no_of_crimes\"] == 0]\n"
      ],
      "metadata": {
        "id": "QLTS06rePB58"
      },
      "execution_count": null,
      "outputs": []
    },
    {
      "cell_type": "code",
      "source": [
        "len(data[data[\"no_of_crimes\"] == 0])"
      ],
      "metadata": {
        "id": "CKyBbv_IPryu"
      },
      "execution_count": null,
      "outputs": []
    },
    {
      "cell_type": "markdown",
      "source": [
        "Q)6. WHAT IS MAXIMUM AND MANIMUM \"AVERAGE_PRICE\" OF PER YEAR IN ENGLAND"
      ],
      "metadata": {
        "id": "vO2g6sz6_gRV"
      }
    },
    {
      "cell_type": "code",
      "source": [
        "data.columns"
      ],
      "metadata": {
        "id": "pv95UnQOPzsz"
      },
      "execution_count": null,
      "outputs": []
    },
    {
      "cell_type": "code",
      "source": [
        "data[\"average_price\"].min()\n"
      ],
      "metadata": {
        "id": "Yow1TMg6P7dn"
      },
      "execution_count": null,
      "outputs": []
    },
    {
      "cell_type": "code",
      "source": [
        "data[\"average_price\"].max()"
      ],
      "metadata": {
        "id": "WBsuzMsPQKtw"
      },
      "execution_count": null,
      "outputs": []
    },
    {
      "cell_type": "code",
      "source": [
        "data.columns"
      ],
      "metadata": {
        "id": "4AnnF5tKUN3W"
      },
      "execution_count": null,
      "outputs": []
    },
    {
      "cell_type": "code",
      "source": [
        "df1 = data[\"area\"] == \"england\""
      ],
      "metadata": {
        "id": "M04A3m16QVPA"
      },
      "execution_count": null,
      "outputs": []
    },
    {
      "cell_type": "code",
      "source": [
        "df2 = data[\"year\"] = data.date.dt.year\n"
      ],
      "metadata": {
        "id": "ARGnqwmfTQ76"
      },
      "execution_count": null,
      "outputs": []
    },
    {
      "cell_type": "code",
      "source": [
        "df2"
      ],
      "metadata": {
        "id": "HbkVs-yfX-Dl"
      },
      "execution_count": null,
      "outputs": []
    },
    {
      "cell_type": "code",
      "source": [
        "data.groupby(\"year\").average_price.max()"
      ],
      "metadata": {
        "id": "9i1hgVUuTpWC"
      },
      "execution_count": null,
      "outputs": []
    },
    {
      "cell_type": "code",
      "source": [
        "data.groupby(\"year\").average_price.min()"
      ],
      "metadata": {
        "id": "APlDh49nUefl"
      },
      "execution_count": null,
      "outputs": []
    },
    {
      "cell_type": "markdown",
      "source": [
        "Q)7. WHAT IS MAXIMUM AND MANIMUM NO.OF \"CRIMES\" RECORDED PER AREA"
      ],
      "metadata": {
        "id": "BP9f_v-XAA6W"
      }
    },
    {
      "cell_type": "code",
      "source": [
        "data.groupby(\"area\").no_of_crimes.max()"
      ],
      "metadata": {
        "id": "xHPxfVV6Us3m"
      },
      "execution_count": null,
      "outputs": []
    },
    {
      "cell_type": "code",
      "source": [
        "data.groupby(\"area\").no_of_crimes.min().sort_values(ascending =True)"
      ],
      "metadata": {
        "id": "_ZwkgiksVZxK"
      },
      "execution_count": null,
      "outputs": []
    },
    {
      "cell_type": "markdown",
      "source": [
        "Q)8. SHOW THE TOTAL COUNT OF RECORD OF EACH AREA , WHERE AVERAGE PRICE IS LESS THAN 100000 ?"
      ],
      "metadata": {
        "id": "Y0IaEUdOAMWM"
      }
    },
    {
      "cell_type": "code",
      "source": [
        "data[data[\"average_price\"] < 100000]"
      ],
      "metadata": {
        "id": "SU_3ozAbXEIo"
      },
      "execution_count": null,
      "outputs": []
    },
    {
      "cell_type": "code",
      "source": [
        "data[data[\"average_price\"] < 100000].area.value_counts()"
      ],
      "metadata": {
        "id": "TcCEBrXaXUVD"
      },
      "execution_count": null,
      "outputs": []
    },
    {
      "cell_type": "code",
      "source": [
        ""
      ],
      "metadata": {
        "id": "DubkWQUmXl_X"
      },
      "execution_count": null,
      "outputs": []
    }
  ]
}